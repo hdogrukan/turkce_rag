{
  "nbformat": 4,
  "nbformat_minor": 0,
  "metadata": {
    "colab": {
      "provenance": []
    },
    "kernelspec": {
      "name": "python3",
      "display_name": "Python 3"
    },
    "language_info": {
      "name": "python"
    }
  },
  "cells": [
    {
      "cell_type": "markdown",
      "source": [
        "#Gerekli Kütüphanelerin Yüklenmesi"
      ],
      "metadata": {
        "id": "GrigSeh905iH"
      }
    },
    {
      "cell_type": "code",
      "execution_count": null,
      "metadata": {
        "id": "Io3CySCez3ME"
      },
      "outputs": [],
      "source": [
        "!pip install faiss-cpu==1.8.0 -q\n",
        "!pip install langchain==0.2.5 -q\n",
        "!pip install langchain-community==0.2.5 -q\n",
        "!pip install langchain-core===0.2.7 -q\n",
        "!pip install langchain-openai==0.0.5 -q\n",
        "!pip install langchain-text-splitters==0.2.1 -q\n",
        "!pip install langsmith==0.1.81 -q\n",
        "!pip install openai==1.10.0 -q\n",
        "!pip install tiktoken==0.7.0 -q\n",
        "!pip install pdfminer.six -q\n",
        "!pip install langchain-google-genai -q"
      ]
    },
    {
      "cell_type": "markdown",
      "source": [
        "# Kütüphanelerin Eklenmesi\n"
      ],
      "metadata": {
        "id": "fn9w3c0x9HoC"
      }
    },
    {
      "cell_type": "code",
      "source": [
        "import sys\n",
        "import os\n",
        "import numpy as np\n",
        "import pandas as pd\n",
        "import time\n",
        "import pickle\n",
        "from langchain_community.document_loaders import PyPDFLoader, PyPDFDirectoryLoader,PDFMinerLoader\n",
        "from langchain_community.vectorstores import FAISS\n",
        "\n",
        "from langchain.chains import  ConversationalRetrievalChain ,RetrievalQA\n",
        "from langchain_community.llms import OpenAI\n",
        "from langchain_community.embeddings import OpenAIEmbeddings\n",
        "\n",
        "from langchain_google_genai import GoogleGenerativeAIEmbeddings\n",
        "from langchain_google_genai import ChatGoogleGenerativeAI\n",
        "\n",
        "from langchain.chat_models import ChatOpenAI\n",
        "from langchain.prompts import PromptTemplate, SystemMessagePromptTemplate\n",
        "from langchain.schema import HumanMessage\n",
        "from langchain.memory import ConversationBufferMemory\n",
        "from langchain.text_splitter import RecursiveCharacterTextSplitter\n",
        "import re\n",
        "from google.colab import userdata\n",
        "from langchain.chains.question_answering import load_qa_chain\n",
        "\n",
        "#import warnings\n",
        "#warnings.filterwarnings(\"ignore\")"
      ],
      "metadata": {
        "id": "VEjmEAZ79b84"
      },
      "execution_count": null,
      "outputs": []
    },
    {
      "cell_type": "markdown",
      "source": [
        "# Rag uygulaması için gerekli PDF'lerin yüklenmesi ve Bölünmesi"
      ],
      "metadata": {
        "id": "aBcsFqNK9qzX"
      }
    },
    {
      "cell_type": "code",
      "source": [
        "# Veri Setleri aşağıdadır.\n",
        "# https://cbddo.gov.tr/arastirma-raporlari/\n",
        "# https://cbddo.gov.tr/SharedFolderServer/Genel/File/TR-UlusalYZStratejisi2021-2025.pdf"
      ],
      "metadata": {
        "id": "WkM81qTRaZdf"
      },
      "execution_count": null,
      "outputs": []
    },
    {
      "cell_type": "code",
      "source": [
        "# Çalışma ortamında bir klasör oluştur !\n",
        "kaynak = 'belgeler'\n",
        "# Klasör içerideki dokumanları göster\n",
        "dokuman_listesi = os.listdir(kaynak)\n",
        "print(dokuman_listesi)\n"
      ],
      "metadata": {
        "colab": {
          "base_uri": "https://localhost:8080/"
        },
        "id": "Y4IEhr6B9qUe",
        "outputId": "c91db95c-2bd1-4e12-c60f-cc414e865868"
      },
      "execution_count": null,
      "outputs": [
        {
          "output_type": "stream",
          "name": "stdout",
          "text": [
            "['TR-UlusalYZStratejisi2021-2025.pdf', '21.Chatbot-Uygulaması-ve-ChatGPT-Örneği-Değerlendirme-Raporu.pdf']\n"
          ]
        }
      ]
    },
    {
      "cell_type": "markdown",
      "source": [
        "# Türkçe Metinlerde ,embeddings öncesi ön işleme aşaması"
      ],
      "metadata": {
        "id": "Rd8Br1rAInLC"
      }
    },
    {
      "cell_type": "code",
      "source": [
        "bolunmus_dokuman = []\n",
        "\n",
        "for i in dokuman_listesi:\n",
        "    loader = PDFMinerLoader(\"belgeler/\"+i)\n",
        "    data = loader.load()\n",
        "    text_splitter = RecursiveCharacterTextSplitter(chunk_size=2000,chunk_overlap=200 , length_function = len)\n",
        "    docs = text_splitter.split_documents(data)\n",
        "    for k in range(len(docs)):\n",
        "        bolunmus_dokuman.append(docs[k])\n",
        "len(bolunmus_dokuman)\n"
      ],
      "metadata": {
        "colab": {
          "base_uri": "https://localhost:8080/"
        },
        "id": "_e_knRr6HvaQ",
        "outputId": "f90b7f82-22dc-4891-e226-53f93c4473d8"
      },
      "execution_count": null,
      "outputs": [
        {
          "output_type": "execute_result",
          "data": {
            "text/plain": [
              "209"
            ]
          },
          "metadata": {},
          "execution_count": 6
        }
      ]
    },
    {
      "cell_type": "code",
      "source": [
        "bolunmus_dokuman[0:2]"
      ],
      "metadata": {
        "colab": {
          "base_uri": "https://localhost:8080/"
        },
        "id": "b3HwrfvmH-l5",
        "outputId": "e150a740-fb6c-42ed-aac4-2d0276e56865"
      },
      "execution_count": null,
      "outputs": [
        {
          "output_type": "execute_result",
          "data": {
            "text/plain": [
              "[Document(page_content='a\\n\\n\\x0cb\\n\\n\\x0cc\\n\\n\\x0cULUSAL YAPAY ZEKÂ STRATEJİSİ\\n\\n2021-2025\\n\\nhttps://www.cbddo.gov.tr/UYZS\\n\\nAğustos 2021\\n\\n\\x0c\\x0c“\\n\\nÜlkemiz adına \\nyapay zekâ \\nalanında \\ninsan odaklı \\nyeni bir atılım \\nyapmanın \\nzamanının \\ngeldiğine \\ninanıyoruz.\\n\\n“\\n\\nRecep Tayyip ERDOĞAN\\nCumhurbaşkanı\\n\\nf\\n\\nU L U S A L   Y A P A Y   Z E K ÂS T R A T E J İ S İ\\x0cRecep Tayyip ERDOĞAN\\nCumhurbaşkanı\\n\\nÖn Söz\\n\\n21’inci yüzyılın ilk çeyreği; dijital veri ve algoritmalar ile dönüşen toplumsal, \\nekonomik  ve  siyasi  yapıların  analog  döneme  ait  kavramlar  ile  olan \\nuyumsuzluklarının gün yüzüne çıktığı bir dönem olmaktadır. Hızla gelişen \\nyapay zekâ destekli sistemlerin üretim süreçleri, meslekler, gündelik yaşam \\nve kurumsal yapılar üzerindeki köklü dönüştürücü etkisi insanoğlunu yeni \\nbir  çağın  eşiğine  getirmiştir.  Uygulama  alanı  giderek  artan  yapay  zekâ \\nteknolojilerinin,  küresel  ekonomik  yapı  üzerinde  İnternet  devriminden \\ndaha büyük bir etki yaratması beklenmektedir. \\n\\nSibernetik  alanının  kurucusu  kabul  edilen  Şırnaklı  El-Cezeri  asırlar  önce \\niçin  “imkânsızları” \\ngeliştirdiği  hidrolik  makinelerle,  yaşadığı  dönem \\nbaşarmıştır. Ülkemizde yapay zekâya dair ilk çağdaş adımı atan Selanikli \\nOrdinaryüs Profesör Cahit Arf’in 1959 yılındaki “Makineler Düşünebilir mi \\nve Nasıl Düşünebilir?” konulu sunumunda vurguladığı üzere: “bilgiye olan \\niştiyakımızın  kendine  bir  yol  bulması,  aklıselime  güvencin  yayılmasına \\nbağlıdır.”  Geçmişten  günümüze  benzer  hasletlerle  hem  Türkiye’de  hem \\nde  yurt  dışında  çalışan  birçok  Türk  vatandaşı,  yapay  zekâ  alanındaki \\ngelişmelerin  daha  da  ileriye  taşınmasına  katkı  vermektedir.  Biz  de  bu \\ngüvençle,  ülkemiz  adına  yapay  zekâ  alanında  yeni  bir  atılım  yapmanın \\nzamanının geldiğine inanıyoruz.', metadata={'source': 'belgeler/TR-UlusalYZStratejisi2021-2025.pdf'}),\n",
              " Document(page_content='Tüm  ülkelerin  yapay  zekânın  potansiyel  kazanımlarına  yönelik  ciddi \\nadımlar attığı bir dönemdeyiz. Ancak, sosyoekonomik gelişme açısından \\nbirçok  fırsat  barındıran  yapay  zekâ  teknolojileri,  kimi  belirsizlikleri  ve \\nriskleri de gündeme getirmektedir. Farkında olmadan; doğayla mücadele \\neden  insandan,  algoritmalar  arasında  sıkışmış  bireylere  dönüşmekteyiz. \\nBununla birlikte; kodlanmış tercihlerimiz, yargılarımız ve söylemlerimizle \\neğitilmiş yapay zekâ sistemleri insanoğlunun kendisini sorgulamasına da \\nvesile olmaktadır. Bu durum aslında ülkemiz için bir fırsattır. Yapay zekâ \\nalanındaki  kalkınma  paradigmamızı,  ekonomik  refah  ve  kamu  düzeni \\nüzerinden şekillendirmenin ötesinde adımlar atacağız.\\n\\nYapay  zekâ  alanı  bir  tercih  meselesi  olmayıp,  “Dijital  Türkiye”  vizyonu \\nve  “Milli  Teknoloji  Hamlesi”  doğrultusunda  kalkınma  hedeflerimizin  en \\nbüyük taşıyıcılarından biridir. Yapay zekâ sistemlerinin ortak değerlerimize \\nuygun  olarak  geliştirilmesini  ve  işletilmesini  de  kapsayan  bir  anlayışla \\ntasarlanması  suretiyle,  köklü  medeniyet  tecrübemizle  harmanlanmış \\nyeni  bir  teknoekonomik  atılım  yaparak  topyekûn  insanlığa  değer  katma \\nimkânımız var.\\n\\nUlusal Yapay Zekâ Stratejisi, hâlihazırda küresel ölçekte yaşanmakta olan \\nve yapay zekâ teknolojilerinin beslediği bu dönüşüme insanlık adına katkı \\nverebilmek ve ülkemizin bu süreçten mümkün olduğunca faydalanmasını \\nsağlamak amacıyla ilgili tüm paydaşların katkılarının da alındığı kapsamlı \\nbir çalışmadır. \\n\\nStratejinin hazırlanmasında, başta Cumhurbaşkanlığı Dijital Dönüşüm Ofisi \\nBaşkanlığı ile Sanayi ve Teknoloji Bakanlığı olmak üzere, emeği geçen tüm \\nkamu kurum ve kuruluşlarına, sivil toplum kuruluşlarına, akademisyenlere \\nve  özel  sektör  temsilcilerine  teşekkür  ediyorum.  Önümüzdeki  beş  yıl \\nboyunca  ilgili  tüm  kesimlerin  katkısıyla  uygulayacağımız  Ulusal  Yapay \\nZekâ Stratejisi’nin ülkemize hayırlı olmasını diliyorum.\\n\\n1', metadata={'source': 'belgeler/TR-UlusalYZStratejisi2021-2025.pdf'})]"
            ]
          },
          "metadata": {},
          "execution_count": 7
        }
      ]
    },
    {
      "cell_type": "code",
      "source": [
        "bolunmus_dokuman = []\n",
        "\n",
        "def metin_önişleme(documents):\n",
        "    for i in range(len(documents)):\n",
        "        documents[i].page_content = re.sub(r'\\.{2,}', '.', documents[i].page_content)\n",
        "        documents[i].page_content = documents[i].page_content.replace(\"\\n\",\" \")\n",
        "        documents[i].page_content = re.sub(r'\\s{3,}', \" \",documents[i].page_content)\n",
        "    return documents\n",
        "\n",
        "for i in dokuman_listesi:\n",
        "    loader = PDFMinerLoader(\"belgeler/\"+i)\n",
        "    data = loader.load()\n",
        "    data = metin_önişleme(data)\n",
        "    text_splitter = RecursiveCharacterTextSplitter(chunk_size=2000,chunk_overlap=200 , length_function = len)\n",
        "    docs = text_splitter.split_documents(data)\n",
        "    for k in range(len(docs)):\n",
        "        bolunmus_dokuman.append(docs[k])\n",
        "len(bolunmus_dokuman)\n"
      ],
      "metadata": {
        "colab": {
          "base_uri": "https://localhost:8080/"
        },
        "id": "PWegi5AHCucM",
        "outputId": "f3ca802e-c7b0-47d8-e428-ea742bda2853"
      },
      "execution_count": null,
      "outputs": [
        {
          "output_type": "execute_result",
          "data": {
            "text/plain": [
              "189"
            ]
          },
          "metadata": {},
          "execution_count": 8
        }
      ]
    },
    {
      "cell_type": "code",
      "source": [
        "(209-189) /209*100"
      ],
      "metadata": {
        "colab": {
          "base_uri": "https://localhost:8080/"
        },
        "id": "Aeq8OkIJIZgy",
        "outputId": "e36d939a-3d6c-4862-d960-9d01baffedd8"
      },
      "execution_count": null,
      "outputs": [
        {
          "output_type": "execute_result",
          "data": {
            "text/plain": [
              "9.569377990430622"
            ]
          },
          "metadata": {},
          "execution_count": 49
        }
      ]
    },
    {
      "cell_type": "code",
      "source": [
        "bolunmus_dokuman[0:2]"
      ],
      "metadata": {
        "colab": {
          "base_uri": "https://localhost:8080/"
        },
        "id": "VDC-jFwwC3X6",
        "outputId": "03a20214-4942-4c38-a782-30ebdd79dc7c"
      },
      "execution_count": null,
      "outputs": [
        {
          "output_type": "execute_result",
          "data": {
            "text/plain": [
              "[Document(page_content='a b c ULUSAL YAPAY ZEKÂ STRATEJİSİ  2021-2025  https://www.cbddo.gov.tr/UYZS  Ağustos 2021 “  Ülkemiz adına  yapay zekâ  alanında  insan odaklı  yeni bir atılım  yapmanın  zamanının  geldiğine  inanıyoruz.  “  Recep Tayyip ERDOĞAN Cumhurbaşkanı  f  U L U S A L Y A P A Y Z E K ÂS T R A T E J İ S İ\\x0cRecep Tayyip ERDOĞAN Cumhurbaşkanı  Ön Söz  21’inci yüzyılın ilk çeyreği; dijital veri ve algoritmalar ile dönüşen toplumsal,  ekonomik  ve  siyasi  yapıların  analog  döneme  ait  kavramlar  ile  olan  uyumsuzluklarının gün yüzüne çıktığı bir dönem olmaktadır. Hızla gelişen  yapay zekâ destekli sistemlerin üretim süreçleri, meslekler, gündelik yaşam  ve kurumsal yapılar üzerindeki köklü dönüştürücü etkisi insanoğlunu yeni  bir  çağın  eşiğine  getirmiştir.  Uygulama  alanı  giderek  artan  yapay  zekâ  teknolojilerinin,  küresel  ekonomik  yapı  üzerinde  İnternet  devriminden  daha büyük bir etki yaratması beklenmektedir. Sibernetik  alanının  kurucusu  kabul  edilen  Şırnaklı  El-Cezeri  asırlar  önce  için  “imkânsızları”  geliştirdiği  hidrolik  makinelerle,  yaşadığı  dönem  başarmıştır. Ülkemizde yapay zekâya dair ilk çağdaş adımı atan Selanikli  Ordinaryüs Profesör Cahit Arf’in 1959 yılındaki “Makineler Düşünebilir mi  ve Nasıl Düşünebilir?” konulu sunumunda vurguladığı üzere: “bilgiye olan  iştiyakımızın  kendine  bir  yol  bulması,  aklıselime  güvencin  yayılmasına  bağlıdır.”  Geçmişten  günümüze  benzer  hasletlerle  hem  Türkiye’de  hem  de  yurt  dışında  çalışan  birçok  Türk  vatandaşı,  yapay  zekâ  alanındaki  gelişmelerin  daha  da  ileriye  taşınmasına  katkı  vermektedir.  Biz  de  bu  güvençle,  ülkemiz  adına  yapay  zekâ  alanında  yeni  bir  atılım  yapmanın  zamanının geldiğine inanıyoruz.  Tüm  ülkelerin  yapay  zekânın  potansiyel  kazanımlarına  yönelik  ciddi  adımlar attığı bir dönemdeyiz. Ancak, sosyoekonomik gelişme açısından  birçok  fırsat  barındıran  yapay  zekâ  teknolojileri,  kimi  belirsizlikleri  ve  riskleri de gündeme', metadata={'source': 'belgeler/TR-UlusalYZStratejisi2021-2025.pdf'}),\n",
              " Document(page_content='yönelik  ciddi  adımlar attığı bir dönemdeyiz. Ancak, sosyoekonomik gelişme açısından  birçok  fırsat  barındıran  yapay  zekâ  teknolojileri,  kimi  belirsizlikleri  ve  riskleri de gündeme getirmektedir. Farkında olmadan; doğayla mücadele  eden  insandan,  algoritmalar  arasında  sıkışmış  bireylere  dönüşmekteyiz.  Bununla birlikte; kodlanmış tercihlerimiz, yargılarımız ve söylemlerimizle  eğitilmiş yapay zekâ sistemleri insanoğlunun kendisini sorgulamasına da  vesile olmaktadır. Bu durum aslında ülkemiz için bir fırsattır. Yapay zekâ  alanındaki  kalkınma  paradigmamızı,  ekonomik  refah  ve  kamu  düzeni  üzerinden şekillendirmenin ötesinde adımlar atacağız.  Yapay  zekâ  alanı  bir  tercih  meselesi  olmayıp,  “Dijital  Türkiye”  vizyonu  ve  “Milli  Teknoloji  Hamlesi”  doğrultusunda  kalkınma  hedeflerimizin  en  büyük taşıyıcılarından biridir. Yapay zekâ sistemlerinin ortak değerlerimize  uygun  olarak  geliştirilmesini  ve  işletilmesini  de  kapsayan  bir  anlayışla  tasarlanması  suretiyle,  köklü  medeniyet  tecrübemizle  harmanlanmış  yeni  bir  teknoekonomik  atılım  yaparak  topyekûn  insanlığa  değer  katma  imkânımız var.  Ulusal Yapay Zekâ Stratejisi, hâlihazırda küresel ölçekte yaşanmakta olan  ve yapay zekâ teknolojilerinin beslediği bu dönüşüme insanlık adına katkı  verebilmek ve ülkemizin bu süreçten mümkün olduğunca faydalanmasını  sağlamak amacıyla ilgili tüm paydaşların katkılarının da alındığı kapsamlı  bir çalışmadır. Stratejinin hazırlanmasında, başta Cumhurbaşkanlığı Dijital Dönüşüm Ofisi  Başkanlığı ile Sanayi ve Teknoloji Bakanlığı olmak üzere, emeği geçen tüm  kamu kurum ve kuruluşlarına, sivil toplum kuruluşlarına, akademisyenlere  ve  özel  sektör  temsilcilerine  teşekkür  ediyorum.  Önümüzdeki  beş  yıl  boyunca  ilgili  tüm  kesimlerin  katkısıyla  uygulayacağımız  Ulusal  Yapay  Zekâ Stratejisi’nin ülkemize hayırlı olmasını diliyorum.  1  U L U S A L Y A P A Y Z E K ÂS T R A T E J İ S İ\\x0cİçindekiler  1 Ön Söz  5 Kısaltmalar  7', metadata={'source': 'belgeler/TR-UlusalYZStratejisi2021-2025.pdf'})]"
            ]
          },
          "metadata": {},
          "execution_count": 10
        }
      ]
    },
    {
      "cell_type": "markdown",
      "source": [
        "#Bolunmus Dokumanların Kaydedilmesi"
      ],
      "metadata": {
        "id": "EEjdEMjPIuLO"
      }
    },
    {
      "cell_type": "code",
      "source": [
        "# Bölünmüş dokumanların kaydedilmesi\n",
        "with open(\"documents_chunk_1000_overlap_100\", \"wb\") as fp:\n",
        "    pickle.dump(bolunmus_dokuman, fp)\n",
        "# Bölünmüş dokumanların tekrar çağırılması\n",
        "with open(\"documents_chunk_1000_overlap_100\", \"rb\") as fp: #Unpickling\n",
        "    kaydedilmis_belgeler = pickle.load(fp)"
      ],
      "metadata": {
        "id": "bc0wE-KtItuJ"
      },
      "execution_count": null,
      "outputs": []
    },
    {
      "cell_type": "code",
      "source": [
        "#kaydedilmis_belgeler"
      ],
      "metadata": {
        "id": "8K82HrTtI8Fl"
      },
      "execution_count": null,
      "outputs": []
    },
    {
      "cell_type": "markdown",
      "source": [
        "# Embeddings"
      ],
      "metadata": {
        "id": "wEJrqlycO8XM"
      }
    },
    {
      "cell_type": "markdown",
      "source": [
        "## Gemini"
      ],
      "metadata": {
        "id": "WkSSPthaYyHT"
      }
    },
    {
      "cell_type": "code",
      "source": [
        "# API key için https://aistudio.google.com/app/apikey\n",
        "os.environ[\"GOOGLE_API_KEY\"] = userdata.get('GOOGLE_API_KEY')"
      ],
      "metadata": {
        "id": "Z9UqEN0eZPWY"
      },
      "execution_count": null,
      "outputs": []
    },
    {
      "cell_type": "code",
      "source": [
        "# Türkçe desteği var ! Daha fazla bilgi için aşağıdaki siteyi ziyaret edebilirsiniz.\n",
        "# https://cloud.google.com/vertex-ai/generative-ai/docs/model-reference/text-embeddings-api\n",
        "embeddings =  GoogleGenerativeAIEmbeddings(model=\"models/text-embedding-004\")\n",
        "text = \"Bu bir test cümlesidir.\"\n",
        "query_result = embeddings.embed_query(text)\n",
        "print(len(query_result))\n",
        "query_result[:10]"
      ],
      "metadata": {
        "colab": {
          "base_uri": "https://localhost:8080/"
        },
        "collapsed": true,
        "id": "SFmtRINyO-7N",
        "outputId": "ea111801-1628-4dd3-88fa-e95b09772ebd"
      },
      "execution_count": null,
      "outputs": [
        {
          "output_type": "stream",
          "name": "stdout",
          "text": [
            "768\n"
          ]
        },
        {
          "output_type": "execute_result",
          "data": {
            "text/plain": [
              "[-0.003097370732575655,\n",
              " 0.05171157419681549,\n",
              " -0.028281938284635544,\n",
              " -0.0732334777712822,\n",
              " 0.022028723731637,\n",
              " 0.03542127460241318,\n",
              " 0.016467075794935226,\n",
              " -0.004859305918216705,\n",
              " 0.004303519614040852,\n",
              " -0.02327588014304638]"
            ]
          },
          "metadata": {},
          "execution_count": 13
        }
      ]
    },
    {
      "cell_type": "code",
      "source": [
        "text = \".\"\n",
        "query_result = embeddings.embed_query(text)\n",
        "print(len(query_result))\n",
        "query_result[:10]"
      ],
      "metadata": {
        "colab": {
          "base_uri": "https://localhost:8080/"
        },
        "id": "Rl2nVaD-Zfse",
        "outputId": "42e584eb-1188-47d2-d62b-0adf616c56b4"
      },
      "execution_count": null,
      "outputs": [
        {
          "output_type": "stream",
          "name": "stdout",
          "text": [
            "768\n"
          ]
        },
        {
          "output_type": "execute_result",
          "data": {
            "text/plain": [
              "[0.03799588605761528,\n",
              " 0.034429799765348434,\n",
              " -0.02474670298397541,\n",
              " -0.004422950092703104,\n",
              " -0.00876795407384634,\n",
              " 0.05222013220191002,\n",
              " 0.019114097580313683,\n",
              " 0.008022915571928024,\n",
              " 0.057971104979515076,\n",
              " 0.024201415479183197]"
            ]
          },
          "metadata": {},
          "execution_count": 14
        }
      ]
    },
    {
      "cell_type": "markdown",
      "source": [
        "# Vector Veritabanının Oluşturulması"
      ],
      "metadata": {
        "id": "kx7flhPn1A-b"
      }
    },
    {
      "cell_type": "code",
      "source": [
        "vector_veritabanı = FAISS.from_documents(bolunmus_dokuman, embedding=embeddings)\n",
        "vector_veritabanı.save_local(\"gemini_embedding_vectordb\")"
      ],
      "metadata": {
        "id": "T48-fAb01Fnj"
      },
      "execution_count": null,
      "outputs": []
    },
    {
      "cell_type": "markdown",
      "source": [
        "#Langchain ile Rag Uygulaması - Gemini"
      ],
      "metadata": {
        "id": "41RpToF-1LRT"
      }
    },
    {
      "cell_type": "code",
      "source": [
        "chain_type=\"stuff\" #  map_reduce, refine , map-rerank # Detaylar için https://towardsdatascience.com/4-ways-of-question-answering-in-langchain-188c6707cc5a\n",
        "search_type = \"similarity\" #'similarity', 'similarity_score_threshold', 'mmr' detaylar için #https://medium.com/tech-that-works/maximal-marginal-relevance-to-rerank-results-in-unsupervised-keyphrase-extraction-22d95015c7c5\n",
        "prompt_template = \"\"\"\n",
        "    1- Aşağıdaki bağlamları kullanarak soruyu yanıtlayın.\n",
        "    2- Sağlanan bağlamdan en ayrıntılı şekilde soruyu yanıtlayın.\n",
        "    3- En fazla 5 cümle kullanın.\n",
        "    4- Cevap sağlanan bağlamda yoksa, \"Üzgünüm cevabı bulamadım...\" demelisiniz.\n",
        "    5- Yanıt Türkçe olmalıdır.\n",
        "    Context:\\n {context}\\n\n",
        "    Question: \\n{question}\\n\n",
        "  \"\"\"\n",
        "\n",
        "vb = FAISS.load_local(\"/content/gemini_embedding_vectordb\", embeddings,allow_dangerous_deserialization=True)\n",
        "\n",
        "retriever = vb.as_retriever(search_type=search_type, search_kwargs={\"k\": 5})\n",
        "llm = ChatGoogleGenerativeAI(model=\"gemini-1.0-pro\",  temperature=0)\n",
        "prompt = PromptTemplate(template = prompt_template, input_variables = [\"context\", \"question\"])\n",
        "retrievalQA = RetrievalQA.from_llm(llm=llm, retriever=retriever,prompt=prompt)\n"
      ],
      "metadata": {
        "id": "O8OS71n61Rpi"
      },
      "execution_count": null,
      "outputs": []
    },
    {
      "cell_type": "markdown",
      "source": [
        "#Gemini-Pro-1.0 ile yapılan RAG uygulamasının Test Edilmesi"
      ],
      "metadata": {
        "id": "JmwQs7q0_Gko"
      }
    },
    {
      "cell_type": "code",
      "source": [
        "# Sorunun cevabı Yapay zeka stratejisi dökumanında sayfa 7 'de detaylı verilmiştir. Teyit için kontrol edilebilir.\n",
        "retrievalQA.run(\"Türkiye'nin yapay zeka stratejisini özetle\")"
      ],
      "metadata": {
        "colab": {
          "base_uri": "https://localhost:8080/",
          "height": 88
        },
        "id": "d7Itk-Bj6X_g",
        "outputId": "5d72bd30-8d73-4968-d5e7-82ac0d8d6b0a"
      },
      "execution_count": null,
      "outputs": [
        {
          "output_type": "execute_result",
          "data": {
            "text/plain": [
              "\"Türkiye'nin Ulusal Yapay Zekâ Stratejisi, 2021-2025 yılları arasında ülkenin yapay zeka alanındaki çalışmalarını ortak bir zemine oturtmayı amaçlamaktadır. Strateji, yapay zeka uzmanlarını yetiştirmeyi, araştırma ve yenilikçiliği desteklemeyi, kaliteli veriye erişimi genişletmeyi, sosyoekonomik uyumu hızlandıracak düzenlemeler yapmayı, uluslararası iş birliklerini güçlendirmeyi ve yapısal ve iş gücü dönüşümünü hızlandırmayı hedeflemektedir.\""
            ],
            "application/vnd.google.colaboratory.intrinsic+json": {
              "type": "string"
            }
          },
          "metadata": {},
          "execution_count": 39
        }
      ]
    },
    {
      "cell_type": "code",
      "source": [
        "# Sorunun cevabı sayfa 9 'da detaylı verilmiştir. Teyit için kontrol edilebilir.\n",
        "retrievalQA.run(\"UYZS’nin uygulama döneminin sonu olan 2025 yılında ulaşılması öngörülen üst seviye hedefleri nelerdir?\")"
      ],
      "metadata": {
        "id": "LNlKfRFZq__I",
        "colab": {
          "base_uri": "https://localhost:8080/",
          "height": 70
        },
        "outputId": "3587cf59-f934-48ed-a73f-03238076e80e"
      },
      "execution_count": null,
      "outputs": [
        {
          "output_type": "execute_result",
          "data": {
            "text/plain": [
              "\"* YZ alanının GSYH'ye katkısı %5'e yükseltilecektir.\\n* Merkezî ve yerel yönetim kamu kurum ve kuruluşlarında YZ alanında istihdam 1.000 kişiye çıkarılacaktır.\\n* YZ alanında istihdam 50.000 kişiye çıkarılacaktır.\\n* YZ alanında lisansüstü düzeyde mezun sayısı 10.000 kişiye çıkarılacaktır.\\n* Uluslararası YZ endekslerindeki sıralamalarda Türkiye'nin ilk 20 ülke arasında yer alması sağlanacaktır.\""
            ],
            "application/vnd.google.colaboratory.intrinsic+json": {
              "type": "string"
            }
          },
          "metadata": {},
          "execution_count": 42
        }
      ]
    },
    {
      "cell_type": "code",
      "source": [
        "# Sorunun cevabı Chatbot uygulaması doumanında sayfa 11 'de detaylı verilmiştir. Teyit için kontrol edilebilir.\n",
        "retrievalQA.run(\"Kural Tabanlı Chatbot nedir ?\")"
      ],
      "metadata": {
        "colab": {
          "base_uri": "https://localhost:8080/",
          "height": 53
        },
        "id": "A3MDFnPK9KL9",
        "outputId": "a6155ab8-48e1-4c7d-ba7e-3f5be55fdb74"
      },
      "execution_count": null,
      "outputs": [
        {
          "output_type": "execute_result",
          "data": {
            "text/plain": [
              "\"Kural tabanlı chatbot'lar, kullanıcıların sorgularını kalıp eşleşmeleri arayarak yanıtlayan ve bilinen herhangi bir kalıbı içermeyen cümlelerle karşılaştıklarında yanlış yanıtlar veren chatbot türüdür.\""
            ],
            "application/vnd.google.colaboratory.intrinsic+json": {
              "type": "string"
            }
          },
          "metadata": {},
          "execution_count": 43
        }
      ]
    },
    {
      "cell_type": "code",
      "source": [
        "# Sorunun cevabı Chatbot uygulaması doumanında sayfa 22 'de detaylı verilmiştir. Teyit için kontrol edilebilir.\n",
        "retrievalQA.run(\"Chatbot’ların İşletmelere Sağladığı Faydaları madde madde verir misin?\")"
      ],
      "metadata": {
        "colab": {
          "base_uri": "https://localhost:8080/",
          "height": 53
        },
        "id": "DvcPvP2b9pqF",
        "outputId": "d23ece31-fc2e-4998-9537-33ba75bd14db"
      },
      "execution_count": null,
      "outputs": [
        {
          "output_type": "execute_result",
          "data": {
            "text/plain": [
              "'* Maliyet tasarrufu\\n* Web sitesi ziyaretçilerine içerik tabanlı yapay zeka tabanlı destek sunma\\n* Müşteri memnuniyetini artırma\\n* Müşteri hizmetleri departmanının yükünü azaltma\\n* Müşterilerle 7/24 iletişim kurma'"
            ],
            "application/vnd.google.colaboratory.intrinsic+json": {
              "type": "string"
            }
          },
          "metadata": {},
          "execution_count": 44
        }
      ]
    },
    {
      "cell_type": "code",
      "source": [
        "# Sorunun cevabı Chatbot uygulaması doumanında sayfa 47 'de detaylı verilmiştir. Teyit için kontrol edilebilir.\n",
        "retrievalQA.run(\"ChatGPT'yi yasaklayan okulların adı nedir?\")"
      ],
      "metadata": {
        "colab": {
          "base_uri": "https://localhost:8080/",
          "height": 53
        },
        "id": "Q7nVBoxF95oh",
        "outputId": "fde063a6-c53f-403c-eef4-5d803a663ad3"
      },
      "execution_count": null,
      "outputs": [
        {
          "output_type": "execute_result",
          "data": {
            "text/plain": [
              "'New York Devlet Okulları, Seattle Devlet Okulları, Longview Okul Bölgesi, Kelso Okul Bölgesi, Baltimore Devlet Okulları, Los Angeles Okul Bölgesi, Fairfax Devlet Okulları, Montgomery Alabama Devlet Okulları'"
            ],
            "application/vnd.google.colaboratory.intrinsic+json": {
              "type": "string"
            }
          },
          "metadata": {},
          "execution_count": 48
        }
      ]
    },
    {
      "cell_type": "markdown",
      "source": [
        "# Langchain ile Rag Uygulaması OpenAI"
      ],
      "metadata": {
        "id": "QfxpfQW51R-Q"
      }
    },
    {
      "cell_type": "code",
      "source": [],
      "metadata": {
        "id": "z37pGu7K1Xre"
      },
      "execution_count": null,
      "outputs": []
    }
  ]
}
